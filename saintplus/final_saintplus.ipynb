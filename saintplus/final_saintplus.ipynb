{
 "cells": [
  {
   "cell_type": "code",
   "execution_count": null,
   "id": "3267e651-8411-4062-9d87-7deb9bfe9d5b",
   "metadata": {
    "tags": []
   },
   "outputs": [],
   "source": [
    "import time\n",
    "import pickle\n",
    "import torch\n",
    "import torch.nn as nn\n",
    "import numpy as np\n",
    "import torch.optim as optim\n",
    "from parser import parser\n",
    "from model import SaintPlus, NoamOpt\n",
    "from torch.utils.data import DataLoader\n",
    "from data_generator import Riiid_Sequence, Riiid_Sequence_Test\n",
    "from sklearn.metrics import roc_auc_score\n",
    "\n",
    "import random\n",
    "import os\n",
    "import pandas as pd\n",
    "\n",
    "import wandb\n",
    "\n",
    "from sklearn.model_selection import train_test_split"
   ]
  },
  {
   "cell_type": "code",
   "execution_count": null,
   "id": "7484cd66-2ca8-414a-910a-e98455a46cc6",
   "metadata": {
    "tags": []
   },
   "outputs": [],
   "source": [
    "seed = 42"
   ]
  },
  {
   "cell_type": "code",
   "execution_count": null,
   "id": "73616e16-3530-4496-9b2c-15424875fe5f",
   "metadata": {
    "tags": []
   },
   "outputs": [],
   "source": [
    "torch.manual_seed(seed)\n",
    "random.seed(seed)\n",
    "np.random.seed(seed)"
   ]
  },
  {
   "cell_type": "code",
   "execution_count": null,
   "id": "3eb78e81-7fd5-4410-9d3b-d25df0826152",
   "metadata": {
    "tags": []
   },
   "outputs": [],
   "source": [
    "device = torch.device(\"cuda\" if torch.cuda.is_available() else \"cpu\")"
   ]
  },
  {
   "cell_type": "code",
   "execution_count": null,
   "id": "73c9c54a-1ad0-4be0-89af-4084d6a5d15d",
   "metadata": {
    "tags": []
   },
   "outputs": [],
   "source": [
    "n_problems = 9454\n",
    "n_tests = 1537\n",
    "n_categories = 9\n",
    "n_tags = 912\n",
    "\n",
    "num_layers = 2\n",
    "num_heads = 4\n",
    "d_model = 128\n",
    "d_ffn = d_model*4\n",
    "\n",
    "seq_len = 100\n",
    "warmup_steps = 5000\n",
    "dropout = 0.1\n",
    "epochs = 1000\n",
    "patience = 100\n",
    "batch_size = 128\n",
    "lr = 0.001"
   ]
  },
  {
   "cell_type": "code",
   "execution_count": null,
   "id": "b9874956-08aa-41f6-89fa-b08e995ad1d4",
   "metadata": {
    "tags": []
   },
   "outputs": [],
   "source": [
    "with open(\"/opt/ml/input/data/train_group.pkl.zip\", 'rb') as pick:\n",
    "    group = pickle.load(pick)"
   ]
  },
  {
   "cell_type": "code",
   "execution_count": null,
   "id": "3c241fd4-8217-488b-b771-4bd5c8aefb10",
   "metadata": {
    "tags": []
   },
   "outputs": [],
   "source": [
    "train_index, valid_index = train_test_split(group.index, train_size = 0.8, random_state = seed)"
   ]
  },
  {
   "cell_type": "code",
   "execution_count": null,
   "id": "dfe6b55e-2867-4f7f-9960-4d976f75df4e",
   "metadata": {
    "tags": []
   },
   "outputs": [],
   "source": [
    "train_group = group[train_index]\n",
    "val_group = group[valid_index]"
   ]
  },
  {
   "cell_type": "code",
   "execution_count": null,
   "id": "73654e0f-f253-44f2-8462-fb7498a47828",
   "metadata": {},
   "outputs": [],
   "source": [
    "train_loader = DataLoader(Riiid_Sequence(train_group, seq_len), batch_size=batch_size, shuffle=True, num_workers=8)\n",
    "val_loader = DataLoader(Riiid_Sequence_Test(val_group, seq_len), batch_size=batch_size, shuffle=False, num_workers=8)"
   ]
  },
  {
   "cell_type": "code",
   "execution_count": null,
   "id": "29c84de3-f520-4a61-b9ce-ff9ba148b16f",
   "metadata": {
    "tags": []
   },
   "outputs": [],
   "source": [
    "loss_fn = nn.BCELoss()\n",
    "model = SaintPlus(seq_len=seq_len, num_layers=num_layers, d_ffn=d_ffn, d_model=d_model, num_heads=num_heads,\n",
    "                  n_problems=n_problems, n_tests=n_tests, \n",
    "                  n_categories=n_categories, n_tags=n_tags,\n",
    "                  dropout=dropout)\n",
    "optimizer = NoamOpt(d_model, 1, warmup_steps ,optim.Adam(model.parameters(), lr=lr))\n",
    "model.to(device)\n",
    "loss_fn.to(device)"
   ]
  },
  {
   "cell_type": "code",
   "execution_count": null,
   "id": "fbb04b0e-997b-4e2b-9386-04839feb9d3e",
   "metadata": {
    "tags": []
   },
   "outputs": [],
   "source": [
    "train_losses = []\n",
    "val_losses = []\n",
    "val_aucs = []\n",
    "best_auc = 0\n",
    "count = 0\n",
    "for e in range(epochs):\n",
    "    print(\"==========Epoch {} Start Training==========\".format(e+1))\n",
    "    model.train()\n",
    "    t_s = time.time()\n",
    "    train_loss = []\n",
    "    for step, data in enumerate(train_loader):\n",
    "        category_sample = data[0].to(device).long()\n",
    "        category_test_sample = data[1].to(device).long()\n",
    "        category_test_problem_sample = data[2].to(device).long()\n",
    "        problem_tag_sample = data[3].to(device).long()\n",
    "        problem_time_sample = data[4].to(device).float()\n",
    "        break_time_sample = data[5].to(device).float()\n",
    "        answer_sample = data[6].to(device).long()\n",
    "        label = data[7].to(device).float()\n",
    "\n",
    "        optimizer.optimizer.zero_grad()\n",
    "\n",
    "        preds = model(category_sample, category_test_sample, category_test_problem_sample, problem_tag_sample, break_time_sample, problem_time_sample, answer_sample)\n",
    "        loss_mask = (answer_sample != 0)\n",
    "        preds_masked = torch.masked_select(preds, loss_mask)\n",
    "        label_masked = torch.masked_select(label, loss_mask)\n",
    "        loss = loss_fn(preds_masked, label_masked)\n",
    "\n",
    "        loss.backward()\n",
    "        optimizer.step()\n",
    "\n",
    "        train_loss.append(loss.item())\n",
    "\n",
    "    train_loss = np.mean(train_loss)\n",
    "    print(\"==========Epoch {} Start Validation==========\".format(e+1))\n",
    "    model.eval()\n",
    "    val_loss = []\n",
    "    val_labels = []\n",
    "    val_preds = []\n",
    "    for step, data in enumerate(val_loader):\n",
    "        category_sample = data[0].to(device).long()\n",
    "        category_test_sample = data[1].to(device).long()\n",
    "        category_test_problem_sample = data[2].to(device).long()\n",
    "        problem_tag_sample = data[3].to(device).long()\n",
    "        problem_time_sample = data[4].to(device).float()\n",
    "        break_time_sample = data[5].to(device).float()\n",
    "        answer_sample = data[6].to(device).long()\n",
    "        label = data[7].to(device).float()\n",
    "\n",
    "        preds = model(category_sample, category_test_sample, category_test_problem_sample, problem_tag_sample, break_time_sample, problem_time_sample, answer_sample)\n",
    "        loss_mask = (answer_sample != 0)\n",
    "        preds_masked = torch.masked_select(preds, loss_mask)\n",
    "        label_masked = torch.masked_select(label, loss_mask)\n",
    "\n",
    "        val_loss.append(loss.item())\n",
    "        val_labels.extend(label_masked.view(-1).data.cpu().numpy())\n",
    "        val_preds.extend(preds_masked.view(-1).data.cpu().numpy())\n",
    "\n",
    "    val_loss = np.mean(val_loss)\n",
    "    val_auc = roc_auc_score(val_labels, val_preds)\n",
    "\n",
    "    if val_auc > best_auc:\n",
    "        print(\"Save model at epoch {}\".format(e+1))\n",
    "        torch.save(model.state_dict(), \"./saint.pt\")\n",
    "        best_auc = val_auc\n",
    "        count = 0\n",
    "    else:\n",
    "        count += 1\n",
    "\n",
    "    train_losses.append(train_loss)\n",
    "    val_losses.append(val_loss)\n",
    "    val_aucs.append(val_auc)\n",
    "    exec_t = int((time.time() - t_s)/60)\n",
    "    print(\"Train Loss {:.4f}/ Val Loss {:.4f}, Val AUC {:.4f} / Exec time {} min\".format(train_loss, val_loss, val_auc, exec_t))\n",
    "    if count >= patience:\n",
    "        print('Early Stopping!')\n",
    "        break\n",
    "\n",
    "os.rename('./saint.pt', './saint_' + best_auc.astype(str) + '.pt')"
   ]
  },
  {
   "cell_type": "code",
   "execution_count": null,
   "id": "28ea03c7-4292-4965-8423-c5285a97a18e",
   "metadata": {},
   "outputs": [],
   "source": [
    "os.rename('./saint.pt', './saint_' + best_auc.astype(str) + '.pt')"
   ]
  },
  {
   "cell_type": "code",
   "execution_count": null,
   "id": "f62dd8c1-c249-421f-9fa2-c780859a1d41",
   "metadata": {
    "tags": []
   },
   "outputs": [],
   "source": [
    "with open(\"/opt/ml/input/data/test_group.pkl.zip\", 'rb') as pick:\n",
    "    test_group = pickle.load(pick)"
   ]
  },
  {
   "cell_type": "code",
   "execution_count": null,
   "id": "2d17a6c3-a130-4c08-884d-aebd9c122e18",
   "metadata": {
    "tags": []
   },
   "outputs": [],
   "source": [
    "test_loader = DataLoader(Riiid_Sequence_Test(test_group, seq_len), batch_size=batch_size, shuffle=False, num_workers=8)"
   ]
  },
  {
   "cell_type": "code",
   "execution_count": null,
   "id": "66fc3a4e-b5d8-4431-9511-1290a6333e03",
   "metadata": {
    "tags": []
   },
   "outputs": [],
   "source": [
    "model_temp = SaintPlus(seq_len=seq_len, num_layers=num_layers, d_ffn=d_ffn, d_model=d_model, num_heads=num_heads,\n",
    "                  n_problems=n_problems, \n",
    "                  n_tests=n_tests, \n",
    "                  n_categories=n_categories, \n",
    "                  n_tags=n_tags,\n",
    "                  dropout=dropout)"
   ]
  },
  {
   "cell_type": "code",
   "execution_count": null,
   "id": "2f7bd337-1ebd-4c12-a60e-53410487361f",
   "metadata": {
    "tags": []
   },
   "outputs": [],
   "source": [
    "checkpoint = torch.load('./saint_' + best_auc.astype(str) + '.pt', map_location=device)"
   ]
  },
  {
   "cell_type": "code",
   "execution_count": null,
   "id": "1e2b50e5-a8ea-49c1-aa70-8ee3ad6814c9",
   "metadata": {
    "tags": []
   },
   "outputs": [],
   "source": [
    "model_temp.load_state_dict(checkpoint)"
   ]
  },
  {
   "cell_type": "code",
   "execution_count": null,
   "id": "8bacd97a-404e-4505-88e6-29c38e9b702b",
   "metadata": {
    "tags": []
   },
   "outputs": [],
   "source": [
    "model_temp.to(device)"
   ]
  },
  {
   "cell_type": "code",
   "execution_count": null,
   "id": "c141fba4-a520-4f4c-b0d0-c773152df646",
   "metadata": {
    "tags": []
   },
   "outputs": [],
   "source": [
    "model_temp.eval()"
   ]
  },
  {
   "cell_type": "code",
   "execution_count": null,
   "id": "fc62bc9a-5654-49c2-984a-b2740be9fd74",
   "metadata": {
    "tags": []
   },
   "outputs": [],
   "source": [
    "submission = []\n",
    "for step, data in enumerate(test_loader):\n",
    "    category_sample = data[0].to(device).long()\n",
    "    category_test_sample = data[1].to(device).long()\n",
    "    category_test_problem_sample = data[2].to(device).long()\n",
    "    problem_tag_sample = data[3].to(device).long()\n",
    "    problem_time_sample = data[4].to(device).float()\n",
    "    break_time_sample = data[5].to(device).float()\n",
    "    answer_sample = data[6].to(device).long()\n",
    "    label = data[7].to(device).float()\n",
    "    \n",
    "    preds = model_temp(category_sample, category_test_sample, category_test_problem_sample, problem_tag_sample, break_time_sample, problem_time_sample, answer_sample)\n",
    "    preds = preds[:, -1]\n",
    "    submission.extend(preds.data.cpu().numpy())"
   ]
  },
  {
   "cell_type": "code",
   "execution_count": null,
   "id": "9fbc9749-3c61-474a-a40e-fa5650fdad03",
   "metadata": {
    "tags": []
   },
   "outputs": [],
   "source": [
    "submission_df = pd.DataFrame()"
   ]
  },
  {
   "cell_type": "code",
   "execution_count": null,
   "id": "4641167f-6fab-4f83-ae0e-5014968436ea",
   "metadata": {
    "tags": []
   },
   "outputs": [],
   "source": [
    "submission_df['id'] = np.arange(len(submission))"
   ]
  },
  {
   "cell_type": "code",
   "execution_count": null,
   "id": "1ad633a6-3a7d-4ef5-94bb-e05e342d8cf4",
   "metadata": {
    "tags": []
   },
   "outputs": [],
   "source": [
    "submission_df['prediction'] = submission"
   ]
  },
  {
   "cell_type": "code",
   "execution_count": null,
   "id": "73bb00ad-d67e-409e-862b-e62c10785eb6",
   "metadata": {
    "tags": []
   },
   "outputs": [],
   "source": [
    "submission_df"
   ]
  },
  {
   "cell_type": "code",
   "execution_count": null,
   "id": "481ad302-46a8-493c-8698-90f3d756e38a",
   "metadata": {
    "tags": []
   },
   "outputs": [],
   "source": [
    "submission_df.to_csv('test.csv')"
   ]
  }
 ],
 "metadata": {
  "kernelspec": {
   "display_name": "bc_torch",
   "language": "python",
   "name": "bc_torch"
  },
  "language_info": {
   "codemirror_mode": {
    "name": "ipython",
    "version": 3
   },
   "file_extension": ".py",
   "mimetype": "text/x-python",
   "name": "python",
   "nbconvert_exporter": "python",
   "pygments_lexer": "ipython3",
   "version": "3.10.11"
  }
 },
 "nbformat": 4,
 "nbformat_minor": 5
}
