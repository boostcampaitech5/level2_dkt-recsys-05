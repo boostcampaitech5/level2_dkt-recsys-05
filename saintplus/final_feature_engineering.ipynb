{
 "cells": [
  {
   "cell_type": "code",
   "execution_count": null,
   "id": "1adda1c2-f530-465e-bb0b-410a96ec6eb6",
   "metadata": {
    "tags": []
   },
   "outputs": [],
   "source": [
    "import pandas as pd"
   ]
  },
  {
   "cell_type": "code",
   "execution_count": null,
   "id": "c831b1bc-9601-4717-affa-eabb62fe0d5e",
   "metadata": {
    "tags": []
   },
   "outputs": [],
   "source": [
    "def feature_engineering(df):\n",
    "    \n",
    "    df['category_test_problem'] = df['assessmentItemID'].str[1:10]\n",
    "\n",
    "    df.drop(['assessmentItemID', 'testId'], axis = 1, inplace = True)\n",
    "    \n",
    "    column_name_dict = {\n",
    "        'userID': 'user',\n",
    "        'answerCode': 'answer',\n",
    "        'Timestamp': 'timestamp',\n",
    "        'KnowledgeTag': 'problem_tag'\n",
    "    }\n",
    "    \n",
    "    df.rename(columns = column_name_dict, inplace = True)\n",
    "    \n",
    "    df['category'] = df['category_test_problem'].str[0:3]\n",
    "    df['category_test'] = df['category_test_problem'].str[0:6]\n",
    "\n",
    "    df['category'] = df['category'].astype(int)\n",
    "    df['category_test'] = df['category_test'].astype(int)\n",
    "    df['category_test_problem'] = df['category_test_problem'].astype(int)\n",
    "    df['problem_tag'] = df['problem_tag'].astype(int)\n",
    "\n",
    "    df['timestamp'] = pd.to_datetime(df['timestamp'])\n",
    "    \n",
    "    df.sort_values(by=['user', 'timestamp'], inplace = True)\n",
    "    \n",
    "    df['problem_time'] = df.groupby('user')['timestamp'].transform(lambda x: x.diff().shift(-1))\n",
    "    df['break_time'] = df.groupby('user')['timestamp'].transform(lambda x: x.diff())\n",
    "    \n",
    "    df['problem_time'] = df['problem_time'].apply(lambda x: x.total_seconds()).fillna(0.0)\n",
    "    df['break_time'] = df['break_time'].apply(lambda x: x.total_seconds()).fillna(0.0)\n",
    "    \n",
    "    return df[['user', 'category', 'category_test', 'category_test_problem', 'problem_tag', 'problem_time', 'break_time', 'answer']]"
   ]
  },
  {
   "cell_type": "code",
   "execution_count": null,
   "id": "6a82da8e-1d8d-49b9-8357-93ad538f2695",
   "metadata": {
    "tags": []
   },
   "outputs": [],
   "source": [
    "train = pd.read_csv('/opt/ml/input/data/train_data.csv')\n",
    "test = pd.read_csv('/opt/ml/input/data/test_data.csv')"
   ]
  },
  {
   "cell_type": "code",
   "execution_count": null,
   "id": "66746c9f-c782-4d11-b07c-53e4368ab04e",
   "metadata": {
    "tags": []
   },
   "outputs": [],
   "source": [
    "train['train'] = 1\n",
    "test['train'] = 0"
   ]
  },
  {
   "cell_type": "code",
   "execution_count": null,
   "id": "01e04f05-a452-441c-9d9f-421e90fb8c99",
   "metadata": {
    "tags": []
   },
   "outputs": [],
   "source": [
    "train = feature_engineering(train)\n",
    "test = feature_engineering(test)"
   ]
  },
  {
   "cell_type": "code",
   "execution_count": null,
   "id": "db3ca018-9cd7-464e-b5e9-8111ec6347b0",
   "metadata": {
    "tags": []
   },
   "outputs": [],
   "source": [
    "from sklearn.preprocessing import LabelEncoder"
   ]
  },
  {
   "cell_type": "code",
   "execution_count": null,
   "id": "93ba820d-741f-4b2e-a4a2-c52a6134d6ad",
   "metadata": {
    "tags": []
   },
   "outputs": [],
   "source": [
    "le_category = LabelEncoder()\n",
    "le_category.fit(train['category'])\n",
    "le_category_test = LabelEncoder()\n",
    "le_category_test.fit(train['category_test'])\n",
    "le_category_test_problem = LabelEncoder()\n",
    "le_category_test_problem.fit(train['category_test_problem'])\n",
    "le_problem_tag = LabelEncoder()\n",
    "le_problem_tag.fit(train['problem_tag'])"
   ]
  },
  {
   "cell_type": "code",
   "execution_count": null,
   "id": "d6a44337-cacb-4534-99c1-2b0220e61932",
   "metadata": {
    "tags": []
   },
   "outputs": [],
   "source": [
    "train['category'] = le_category.transform(train['category'])\n",
    "train['category_test'] = le_category_test.transform(train['category_test'])\n",
    "train['category_test_problem'] = le_category_test_problem.transform(train['category_test_problem'])\n",
    "train['problem_tag'] = le_problem_tag.transform(train['problem_tag'])\n",
    "\n",
    "test['category'] = le_category.transform(test['category'])\n",
    "test['category_test'] = le_category_test.transform(test['category_test'])\n",
    "test['category_test_problem'] = le_category_test_problem.transform(test['category_test_problem'])\n",
    "test['problem_tag'] = le_problem_tag.transform(test['problem_tag'])"
   ]
  },
  {
   "cell_type": "code",
   "execution_count": null,
   "id": "3c9d71d9-d50d-4fb6-b5de-b59827c8c129",
   "metadata": {
    "tags": []
   },
   "outputs": [],
   "source": [
    "import pickle"
   ]
  },
  {
   "cell_type": "code",
   "execution_count": null,
   "id": "bd0337f0-b397-454f-b50a-c6106afa55d5",
   "metadata": {
    "tags": []
   },
   "outputs": [],
   "source": [
    "train_group = train.groupby('user').apply(lambda x: (\n",
    "    x['category'].values,\n",
    "    x['category_test'].values,\n",
    "    x['category_test_problem'].values,\n",
    "    x['problem_tag'].values,\n",
    "    x['problem_time'].values,\n",
    "    x['break_time'].values,\n",
    "    x['answer'].values,\n",
    "))\n",
    "test_group = test.groupby('user').apply(lambda x: (\n",
    "    x['category'].values,\n",
    "    x['category_test'].values,\n",
    "    x['category_test_problem'].values,\n",
    "    x['problem_tag'].values,\n",
    "    x['problem_time'].values,\n",
    "    x['break_time'].values,\n",
    "    x['answer'].values,\n",
    "))"
   ]
  },
  {
   "cell_type": "code",
   "execution_count": null,
   "id": "35b1dddd-18a5-4d47-9d87-a728f0fc6c93",
   "metadata": {
    "tags": []
   },
   "outputs": [],
   "source": [
    "with open(\"/opt/ml/input/data/train_group.pkl.zip\", 'wb') as pick:\n",
    "        pickle.dump(train_group, pick)\n",
    "with open(\"/opt/ml/input/data/test_group.pkl.zip\", 'wb') as pick:\n",
    "        pickle.dump(test_group, pick)"
   ]
  }
 ],
 "metadata": {
  "kernelspec": {
   "display_name": "bc_torch",
   "language": "python",
   "name": "bc_torch"
  },
  "language_info": {
   "codemirror_mode": {
    "name": "ipython",
    "version": 3
   },
   "file_extension": ".py",
   "mimetype": "text/x-python",
   "name": "python",
   "nbconvert_exporter": "python",
   "pygments_lexer": "ipython3",
   "version": "3.10.11"
  }
 },
 "nbformat": 4,
 "nbformat_minor": 5
}
