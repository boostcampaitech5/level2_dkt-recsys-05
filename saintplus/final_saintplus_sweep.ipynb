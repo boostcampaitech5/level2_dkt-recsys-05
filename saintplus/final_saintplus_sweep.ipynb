{
 "cells": [
  {
   "cell_type": "code",
   "execution_count": null,
   "id": "3267e651-8411-4062-9d87-7deb9bfe9d5b",
   "metadata": {
    "tags": []
   },
   "outputs": [],
   "source": [
    "import time\n",
    "import pickle\n",
    "import torch\n",
    "import torch.nn as nn\n",
    "import numpy as np\n",
    "import torch.optim as optim\n",
    "from parser import parser\n",
    "from model import SaintPlus, NoamOpt\n",
    "from torch.utils.data import DataLoader\n",
    "from data_generator import Riiid_Sequence\n",
    "from sklearn.metrics import roc_auc_score\n",
    "\n",
    "import random\n",
    "\n",
    "import wandb\n",
    "\n",
    "from sklearn.model_selection import train_test_split"
   ]
  },
  {
   "cell_type": "code",
   "execution_count": null,
   "id": "7484cd66-2ca8-414a-910a-e98455a46cc6",
   "metadata": {
    "tags": []
   },
   "outputs": [],
   "source": [
    "seed = 42"
   ]
  },
  {
   "cell_type": "code",
   "execution_count": null,
   "id": "73616e16-3530-4496-9b2c-15424875fe5f",
   "metadata": {
    "tags": []
   },
   "outputs": [],
   "source": [
    "torch.manual_seed(seed)\n",
    "random.seed(seed)\n",
    "np.random.seed(seed)"
   ]
  },
  {
   "cell_type": "code",
   "execution_count": null,
   "id": "3eb78e81-7fd5-4410-9d3b-d25df0826152",
   "metadata": {
    "tags": []
   },
   "outputs": [],
   "source": [
    "device = torch.device(\"cuda\" if torch.cuda.is_available() else \"cpu\")"
   ]
  },
  {
   "cell_type": "code",
   "execution_count": null,
   "id": "73c9c54a-1ad0-4be0-89af-4084d6a5d15d",
   "metadata": {
    "tags": []
   },
   "outputs": [],
   "source": [
    "n_problems = 9454\n",
    "n_tests = 1537\n",
    "n_categories = 9\n",
    "n_tags = 912"
   ]
  },
  {
   "cell_type": "code",
   "execution_count": null,
   "id": "b9874956-08aa-41f6-89fa-b08e995ad1d4",
   "metadata": {
    "tags": []
   },
   "outputs": [],
   "source": [
    "with open(\"/opt/ml/input/data/train_group.pkl.zip\", 'rb') as pick:\n",
    "    group = pickle.load(pick)"
   ]
  },
  {
   "cell_type": "code",
   "execution_count": null,
   "id": "3c241fd4-8217-488b-b771-4bd5c8aefb10",
   "metadata": {
    "tags": []
   },
   "outputs": [],
   "source": [
    "train_index, valid_index = train_test_split(group.index, train_size = 0.8, random_state = seed)"
   ]
  },
  {
   "cell_type": "code",
   "execution_count": null,
   "id": "dfe6b55e-2867-4f7f-9960-4d976f75df4e",
   "metadata": {
    "tags": []
   },
   "outputs": [],
   "source": [
    "train_group = group[train_index]\n",
    "val_group = group[valid_index]"
   ]
  },
  {
   "cell_type": "code",
   "execution_count": null,
   "id": "8ca7bbdd-6368-4d1c-86f9-1acce452599c",
   "metadata": {
    "tags": []
   },
   "outputs": [],
   "source": [
    "sweep_configuration = {\n",
    "    'method': 'bayes',\n",
    "    'metric': {\n",
    "        'goal': 'maximize', \n",
    "        'name': 'auc'\n",
    "        },\n",
    "    'parameters': {\n",
    "        \"num_layers\": {\"values\": [1, 2, 4]},\n",
    "        \"num_heads\": {\"values\": [2, 4, 8]},\n",
    "        \"d_model\": {\"values\": [64, 128, 256]},\n",
    "        \"d_ffn\": {\"values\": [2, 3, 4, 5, 6]},\n",
    "\n",
    "        \"seq_len\": {\"distribution\": \"int_uniform\", \"min\": 10, \"max\": 500},\n",
    "        \"warmup_steps\": {\"distribution\": \"int_uniform\", \"min\": 100, \"max\": 10000},\n",
    "        \"dropout\": {\"distribution\": \"uniform\", \"min\": 0, \"max\": 0.9},\n",
    "\n",
    "        \"lr\": {\"distribution\": \"uniform\", \"min\": 0.001, \"max\": 0.01},\n",
    "        \"batch_size\": {\"values\": [64, 128]},\n",
    "        \"epochs\": {\"value\": 100},\n",
    "        \"patience\": {\"value\": 10},\n",
    "    }\n",
    "}"
   ]
  },
  {
   "cell_type": "code",
   "execution_count": null,
   "id": "d2743ef4-3ea3-4d86-b314-21afc5c705f0",
   "metadata": {
    "tags": []
   },
   "outputs": [],
   "source": [
    "def objective_function():\n",
    "    wandb.init()\n",
    "    args = wandb.config\n",
    "    \n",
    "    train_loader = DataLoader(Riiid_Sequence(train_group, args.seq_len), batch_size=args.batch_size, shuffle=True, num_workers=8)\n",
    "    val_loader = DataLoader(Riiid_Sequence(val_group, args.seq_len), batch_size=args.batch_size, shuffle=False, num_workers=8)\n",
    "    \n",
    "    loss_fn = nn.BCELoss()\n",
    "    model = SaintPlus(seq_len=args.seq_len, num_layers=args.num_layers, d_ffn=args.d_model*args.d_ffn, d_model=args.d_model, num_heads=args.num_heads,\n",
    "                      n_problems=n_problems, n_tests=n_tests, n_categories=n_categories, n_tags=n_tags,\n",
    "                      dropout=args.dropout)\n",
    "    optimizer = NoamOpt(args.d_model, 1, args.warmup_steps ,optim.Adam(model.parameters(), lr=args.lr))\n",
    "    model.to(device)\n",
    "    loss_fn.to(device)\n",
    "    \n",
    "    train_losses = []\n",
    "    val_losses = []\n",
    "    val_aucs = []\n",
    "    best_auc = 0\n",
    "    count = 0\n",
    "    for e in range(args.epochs):\n",
    "        model.train()\n",
    "        train_loss = []\n",
    "        for step, data in enumerate(train_loader):\n",
    "            category_sample = data[0].to(device).long()\n",
    "            category_test_sample = data[1].to(device).long()\n",
    "            category_test_problem_sample = data[2].to(device).long()\n",
    "            problem_tag_sample = data[3].to(device).long()\n",
    "            problem_time_sample = data[4].to(device).float()\n",
    "            break_time_sample = data[5].to(device).float()\n",
    "            answer_sample = data[6].to(device).long()\n",
    "            label = data[7].to(device).float()\n",
    "\n",
    "            optimizer.optimizer.zero_grad()\n",
    "\n",
    "            preds = model(category_sample, category_test_sample, category_test_problem_sample, problem_tag_sample, break_time_sample, problem_time_sample, answer_sample)\n",
    "            loss_mask = (answer_sample != 0)\n",
    "            preds_masked = torch.masked_select(preds, loss_mask)\n",
    "            label_masked = torch.masked_select(label, loss_mask)\n",
    "            loss = loss_fn(preds_masked, label_masked)\n",
    "\n",
    "            loss.backward()\n",
    "            optimizer.step()\n",
    "\n",
    "            train_loss.append(loss.item())\n",
    "\n",
    "        train_loss = np.mean(train_loss)\n",
    "        model.eval()\n",
    "        val_loss = []\n",
    "        val_labels = []\n",
    "        val_preds = []\n",
    "        for step, data in enumerate(val_loader):\n",
    "            category_sample = data[0].to(device).long()\n",
    "            category_test_sample = data[1].to(device).long()\n",
    "            category_test_problem_sample = data[2].to(device).long()\n",
    "            problem_tag_sample = data[3].to(device).long()\n",
    "            problem_time_sample = data[4].to(device).float()\n",
    "            break_time_sample = data[5].to(device).float()\n",
    "            answer_sample = data[6].to(device).long()\n",
    "            label = data[7].to(device).float()\n",
    "\n",
    "            preds = model(category_sample, category_test_sample, category_test_problem_sample, problem_tag_sample, break_time_sample, problem_time_sample, answer_sample)\n",
    "            loss_mask = (answer_sample != 0)\n",
    "            preds_masked = torch.masked_select(preds, loss_mask)\n",
    "            label_masked = torch.masked_select(label, loss_mask)\n",
    "\n",
    "            val_loss.append(loss.item())\n",
    "            val_labels.extend(label_masked.view(-1).data.cpu().numpy())\n",
    "            val_preds.extend(preds_masked.view(-1).data.cpu().numpy())\n",
    "\n",
    "        val_loss = np.mean(val_loss)\n",
    "        val_auc = roc_auc_score(val_labels, val_preds)\n",
    "\n",
    "        if val_auc > best_auc:\n",
    "            best_auc = val_auc\n",
    "            torch.save(model.state_dict(), \"./saintplus.pt\")\n",
    "            count = 0\n",
    "        else:\n",
    "            count += 1\n",
    "\n",
    "        train_losses.append(train_loss)\n",
    "        val_losses.append(val_loss)\n",
    "        val_aucs.append(val_auc)\n",
    "        wandb.log({\n",
    "            \"train_loss\": train_losses,\n",
    "            \"val_loss\": val_losses,\n",
    "            \"val_auc\": val_aucs\n",
    "        })\n",
    "        if count >= args.patience:\n",
    "            print('Early Stopping!')\n",
    "            break\n",
    "    wandb.log({\"auc\": best_auc})\n",
    "    os.rename(\"./saintplus.pt\", \"./saintplus_\" + best_auc + \".pt\")"
   ]
  },
  {
   "cell_type": "code",
   "execution_count": null,
   "id": "2d92ce95-3211-4654-a51d-bae8e7de516b",
   "metadata": {
    "tags": []
   },
   "outputs": [],
   "source": [
    "sweep_id = wandb.sweep(sweep_configuration, project = 'saintplus')"
   ]
  },
  {
   "cell_type": "code",
   "execution_count": null,
   "id": "b41621b5-f515-4fa4-8dff-605d3032dfb2",
   "metadata": {
    "tags": []
   },
   "outputs": [],
   "source": [
    "wandb.agent(sweep_id, function = objective_function, count = 50)"
   ]
  }
 ],
 "metadata": {
  "kernelspec": {
   "display_name": "bc_torch",
   "language": "python",
   "name": "bc_torch"
  },
  "language_info": {
   "codemirror_mode": {
    "name": "ipython",
    "version": 3
   },
   "file_extension": ".py",
   "mimetype": "text/x-python",
   "name": "python",
   "nbconvert_exporter": "python",
   "pygments_lexer": "ipython3",
   "version": "3.10.11"
  }
 },
 "nbformat": 4,
 "nbformat_minor": 5
}
