{
 "cells": [
  {
   "cell_type": "code",
   "execution_count": null,
   "id": "8903b55f-f6b3-46f2-b36c-1869179fa11f",
   "metadata": {
    "tags": []
   },
   "outputs": [],
   "source": [
    "import pandas as pd\n",
    "import os\n",
    "import random\n",
    "from tqdm import tqdm\n",
    "from trueskill import Rating, quality_1vs1, rate_1vs1\n",
    "import math\n",
    "import trueskill\n",
    "import numpy as np\n",
    "from collections import defaultdict\n",
    "import datetime"
   ]
  },
  {
   "cell_type": "code",
   "execution_count": null,
   "id": "63528dee-b019-4deb-b910-30e4762378eb",
   "metadata": {},
   "outputs": [],
   "source": [
    "import warnings \n",
    "warnings.filterwarnings(\"ignore\")"
   ]
  },
  {
   "attachments": {},
   "cell_type": "markdown",
   "id": "76f6ee7a-9f10-413c-aa34-e5a25f60d8a7",
   "metadata": {},
   "source": [
    "## Base Feature Engineering"
   ]
  },
  {
   "cell_type": "code",
   "execution_count": null,
   "id": "c6565dfa-9157-4127-8376-1d4fc88f8209",
   "metadata": {
    "tags": []
   },
   "outputs": [],
   "source": [
    "\n",
    "def time_encoder(df):\n",
    "    dt = (df[\"Timestamp\"] - df[\"first\"]).dt.days\n",
    "    output = np.sin(2*np.pi*dt/365)\n",
    "    return output"
   ]
  },
  {
   "cell_type": "code",
   "execution_count": null,
   "id": "4987989d-1b52-4328-982f-3cc6ef459526",
   "metadata": {
    "tags": []
   },
   "outputs": [],
   "source": [
    "def calc_smooth_mean(df, by, on, m=10, alpha=0.8, train=True):\n",
    "    mean = df[on].mean()\n",
    "    agg = df.groupby(by)[on].agg(['count', 'mean'])\n",
    "    counts = agg['count']\n",
    "    means = agg['mean']\n",
    "    if train and by==\"assessmentItemID\":\n",
    "        mean*=0.8\n",
    "        means*=0.8\n",
    "    smooth = (counts * means + m * mean) / (counts + m)\n",
    "    return smooth.to_dict()"
   ]
  },
  {
   "cell_type": "code",
   "execution_count": null,
   "id": "b7622f48-3006-4578-a32f-a141a9a1e702",
   "metadata": {
    "tags": []
   },
   "outputs": [],
   "source": [
    "def feature_engineering(df, im=None, tm=None, km=None, its=None, ts=None, ks=None, train=True):\n",
    "    \n",
    "    #유저별 시퀀스를 고려하기 위해 아래와 같이 정렬\n",
    "    df.sort_values(by=['userID','Timestamp'], inplace=True)\n",
    "        \n",
    "    df['user_test_correct_answer'] = df.groupby(['userID', 'testId'])['answerCode'].transform(lambda x: x.cumsum().shift(1)).fillna(0)\n",
    "    df['user_test_total_answer'] = df.groupby(['userID', 'testId'])['answerCode'].cumcount()\n",
    "    df['user_test_acc'] = (df['user_test_correct_answer']/df['user_test_total_answer']).fillna(0)\n",
    "    \n",
    "    df['user_tag_correct_answer'] = df.groupby(['userID', 'KnowledgeTag'])['answerCode'].transform(lambda x: x.cumsum().shift(1)).fillna(0)\n",
    "    df['user_tag_total_answer'] = df.groupby(['userID', 'KnowledgeTag'])['answerCode'].cumcount()\n",
    "    df['user_tag_acc'] = (df['user_tag_correct_answer']/df['user_tag_total_answer']).fillna(0)\n",
    "\n",
    "    df.loc[:,\"testid_first\"]=df[\"testId\"].apply(lambda x: int(x[2]))\n",
    "    df.loc[:,\"testid_rest\"]=df[\"testId\"].apply(lambda x: int(x[-3:]))\n",
    "    df.loc[:,\"itemseq\"]=df[\"assessmentItemID\"].apply(lambda x: int(x[-2:]))\n",
    "    \n",
    "    item_mean=calc_smooth_mean(df, \"assessmentItemID\", \"answerCode\", train=train)\n",
    "    test_mean=calc_smooth_mean(df, \"testId\", \"answerCode\", train=train)\n",
    "    tag_mean=calc_smooth_mean(df, \"KnowledgeTag\", \"answerCode\", train=train)\n",
    "    \n",
    "    item_std=df.groupby(\"assessmentItemID\")[\"answerCode\"].std().to_dict()\n",
    "    test_std=df.groupby(\"testId\")[\"answerCode\"].std().to_dict()\n",
    "    tag_std=df.groupby(\"KnowledgeTag\")[\"answerCode\"].std().to_dict()\n",
    "    \n",
    "    if im: \n",
    "        item_mean=pd.DataFrame([item_mean, im]).mean().to_dict()\n",
    "        item_std=pd.DataFrame([item_mean, its]).mean().to_dict()\n",
    "    if tm: \n",
    "        test_mean=pd.DataFrame([test_mean, tm]).mean().to_dict()\n",
    "        test_std=pd.DataFrame([test_std, ts]).mean().to_dict()\n",
    "    if km: \n",
    "        tag_mean=pd.DataFrame([tag_mean, km]).mean().to_dict()\n",
    "        tag_std=pd.DataFrame([tag_std, ks]).mean().to_dict()\n",
    "            \n",
    "    df.loc[:, \"item_mean\"]=df.loc[:, \"assessmentItemID\"].map(item_mean)\n",
    "    df.loc[:, \"test_mean\"]=df.loc[:, \"testId\"].map(test_mean)\n",
    "    df.loc[:, \"tag_mean\"]=df.loc[:, \"KnowledgeTag\"].map(tag_mean)\n",
    "    \n",
    "    df.loc[:, \"item_std\"]=df.loc[:, \"assessmentItemID\"].map(item_std)\n",
    "    df.loc[:, \"test_std\"]=df.loc[:, \"testId\"].map(test_std)\n",
    "    df.loc[:, \"tag_std\"]=df.loc[:, \"KnowledgeTag\"].map(tag_std)\n",
    "        \n",
    "    df[\"Timestamp\"]=pd.to_datetime(df[\"Timestamp\"])\n",
    "    df.loc[:, \"month\"]=df.loc[:,\"Timestamp\"].dt.month\n",
    "    df.loc[:, \"hour\"]=df.loc[:,\"Timestamp\"].dt.hour\n",
    "    \n",
    "    df.loc[:, \"repeat\"]=df.groupby([\"userID\", \"assessmentItemID\"]).cumcount()+1\n",
    "    df[\"elapse\"]=df.groupby([\"userID\",\"testId\", \"repeat\"])[\"Timestamp\"].diff().dt.seconds.fillna(0)\n",
    "    df.loc[df[\"elapse\"]>=5400,\"elapse\"]=5400    \n",
    "    df[\"total_elapse\"]=df.groupby([\"userID\",\"testId\", \"repeat\"])[\"Timestamp\"].transform(lambda x: x.diff().dt.seconds.cumsum()).fillna(0)\n",
    "    df[\"elapse\"]=np.log1p(df[\"elapse\"])\n",
    "    df[\"total_elapse\"]=np.log1p(df[\"total_elapse\"])\n",
    "    \n",
    "    firsttime=df.groupby(\"userID\")[\"Timestamp\"].first().to_dict()\n",
    "    df[\"first\"]=df[\"userID\"].map(firsttime)\n",
    "    df[\"encoded_time\"]=time_encoder(df)\n",
    "    \n",
    "    df[\"miss\"]=(1-df[\"answerCode\"])*1.5\n",
    "    df['user_tag_incorrect']=df.groupby(['userID', 'KnowledgeTag'])['miss'].transform(lambda x: x.cumsum().shift(1)).fillna(0)\n",
    "    df['user_tag_inacc'] = (df['user_tag_incorrect']/df['user_tag_total_answer']).fillna(0)\n",
    "    \n",
    "    df[\"KnowledgeTag\"]=df[\"KnowledgeTag\"].astype(\"category\")\n",
    "    \n",
    "    df.drop([\"first\", \"miss\"], axis=1, inplace=True)\n",
    "    \n",
    "    return df, item_mean, test_mean, tag_mean, item_std, test_std, tag_std"
   ]
  },
  {
   "attachments": {},
   "cell_type": "markdown",
   "id": "efbe276c-7fdd-42b0-9193-16a10a18ac85",
   "metadata": {},
   "source": [
    "## PROCESS"
   ]
  },
  {
   "cell_type": "code",
   "execution_count": null,
   "id": "26e16d94-267b-4bda-b3a4-9dcbda899e55",
   "metadata": {
    "tags": []
   },
   "outputs": [],
   "source": [
    "df = pd.read_csv('./data/train_data.csv') \n",
    "test_df = pd.read_csv('./data/test_data.csv') "
   ]
  },
  {
   "cell_type": "code",
   "execution_count": null,
   "id": "c3cf296e-8332-4de6-b9f2-cdcf6b403549",
   "metadata": {
    "tags": []
   },
   "outputs": [],
   "source": [
    "df"
   ]
  },
  {
   "cell_type": "code",
   "execution_count": null,
   "id": "4de228bc-364b-4f6b-9494-f04fe4c5a9bc",
   "metadata": {
    "tags": []
   },
   "outputs": [],
   "source": [
    "test_df"
   ]
  },
  {
   "cell_type": "code",
   "execution_count": null,
   "id": "5b85e06f-bdd4-4b29-9618-3401cd6ff6a0",
   "metadata": {
    "tags": []
   },
   "outputs": [],
   "source": [
    "df, im, tm, km, its, ts, ks = feature_engineering(df)\n",
    "df.to_parquet(\"./data/train_ppd_final_sfcv.parquet\")"
   ]
  },
  {
   "cell_type": "code",
   "execution_count": null,
   "id": "559139c7-695a-498b-ae4a-772e11fa0c34",
   "metadata": {
    "tags": []
   },
   "outputs": [],
   "source": [
    "test_df.loc[test_df['answerCode']==-1, 'answerCode']=np.NaN\n",
    "test_df, i, t, k, _, _, _ = feature_engineering(test_df, im, tm, km, its, ts, ks, False)\n",
    "test_df = test_df[test_df['userID'] != test_df['userID'].shift(-1)]\n",
    "test_df=test_df.drop([\"userID\",\"assessmentItemID\", \"testId\", \"Timestamp\", \"answerCode\"], axis=1)\n",
    "test_df.to_parquet('./data/test_ppd_final.parquet')"
   ]
  }
 ],
 "metadata": {
  "kernelspec": {
   "display_name": "Python 3 (ipykernel)",
   "language": "python",
   "name": "python3"
  },
  "language_info": {
   "codemirror_mode": {
    "name": "ipython",
    "version": 3
   },
   "file_extension": ".py",
   "mimetype": "text/x-python",
   "name": "python",
   "nbconvert_exporter": "python",
   "pygments_lexer": "ipython3",
   "version": "3.8.5"
  }
 },
 "nbformat": 4,
 "nbformat_minor": 5
}
