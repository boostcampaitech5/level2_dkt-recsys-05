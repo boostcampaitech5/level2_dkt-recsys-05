{
 "cells": [
  {
   "cell_type": "code",
   "execution_count": null,
   "metadata": {
    "tags": []
   },
   "outputs": [],
   "source": [
    "import warnings \n",
    "warnings.filterwarnings(\"ignore\")"
   ]
  },
  {
   "cell_type": "code",
   "execution_count": null,
   "metadata": {
    "ExecuteTime": {
     "end_time": "2021-05-24T09:49:29.375544Z",
     "start_time": "2021-05-24T09:49:28.999092Z"
    },
    "id": "Uq_TJqbdhfQu",
    "tags": []
   },
   "outputs": [],
   "source": [
    "import pandas as pd\n",
    "import os\n",
    "import random\n",
    "import numpy as np\n",
    "\n",
    "import lightgbm as lgb\n",
    "from sklearn.metrics import roc_auc_score\n",
    "from sklearn.metrics import accuracy_score\n",
    "import numpy as np\n",
    "from datetime import datetime, timezone, timedelta\n",
    "from sklearn.model_selection import StratifiedGroupKFold\n",
    "\n",
    "from wandb.lightgbm import wandb_callback, log_summary"
   ]
  },
  {
   "cell_type": "code",
   "execution_count": null,
   "metadata": {},
   "outputs": [],
   "source": [
    "#wandb_callback 수정 \n",
    "from typing import TYPE_CHECKING, Callable\n",
    "import wandb\n",
    "from wandb.sdk.lib import telemetry as wb_telemetry\n",
    "\n",
    "MINIMIZE_METRICS = [\n",
    "    \"l1\",\n",
    "    \"l2\",\n",
    "    \"rmse\",\n",
    "    \"mape\",\n",
    "    \"huber\",\n",
    "    \"fair\",\n",
    "    \"poisson\",\n",
    "    \"gamma\",\n",
    "    \"binary_logloss\",\n",
    "]\n",
    "\n",
    "MAXIMIZE_METRICS = [\"map\", \"auc\", \"average_precision\"]\n",
    "\n",
    "def _define_metric(data: str, metric_name: str) -> None:\n",
    "    \n",
    "    \"\"\"Capture model performance at the best step.\n",
    "\n",
    "    instead of the last step, of training in your `wandb.summary`\n",
    "    \"\"\"\n",
    "    if \"loss\" in str.lower(metric_name):\n",
    "        wandb.define_metric(f\"{data}_{metric_name}\", summary=\"min\")\n",
    "    elif str.lower(metric_name) in MINIMIZE_METRICS:\n",
    "        wandb.define_metric(f\"{data}_{metric_name}\", summary=\"min\")\n",
    "    elif str.lower(metric_name) in MAXIMIZE_METRICS:\n",
    "        wandb.define_metric(f\"{data}_{metric_name}\", summary=\"max\")\n",
    "        \n",
    "def wandb_callback(log_params: bool = True, define_metric: bool = True) -> Callable:\n",
    "    \"\"\"Automatically integrates LightGBM with wandb.\n",
    "\n",
    "    Arguments:\n",
    "        log_params: (boolean) if True (default) logs params passed to lightgbm.train as W&B config\n",
    "        define_metric: (boolean) if True (default) capture model performance at the best step, instead of the last step, of training in your `wandb.summary`\n",
    "\n",
    "    Passing `wandb_callback` to LightGBM will:\n",
    "      - log params passed to lightgbm.train as W&B config (default).\n",
    "      - log evaluation metrics collected by LightGBM, such as rmse, accuracy etc to Weights & Biases\n",
    "      - Capture the best metric in `wandb.summary` when `define_metric=True` (default).\n",
    "\n",
    "    Use `log_summary` as an extension of this callback.\n",
    "\n",
    "    Example:\n",
    "        ```python\n",
    "        params = {\n",
    "            'boosting_type': 'gbdt',\n",
    "            'objective': 'regression',\n",
    "            .\n",
    "        }\n",
    "        gbm = lgb.train(params,\n",
    "                        lgb_train,\n",
    "                        num_boost_round=10,\n",
    "                        valid_sets=lgb_eval,\n",
    "                        valid_names=('validation'),\n",
    "                        callbacks=[wandb_callback()])\n",
    "        ```\n",
    "    \"\"\"\n",
    "    log_params_list: \"List[bool]\" = [log_params]\n",
    "    define_metric_list: \"List[bool]\" = [define_metric]\n",
    "\n",
    "    def _init(env: \"CallbackEnv\") -> None:\n",
    "        with wb_telemetry.context() as tel:\n",
    "            tel.feature.lightgbm_wandb_callback = True\n",
    "\n",
    "        wandb.config.update(env.params)\n",
    "        log_params_list[0] = False\n",
    "\n",
    "        if define_metric_list[0]:\n",
    "            for i in range(len(env.evaluation_result_list)):\n",
    "                data_type = env.evaluation_result_list[i][0]\n",
    "                metric_name = env.evaluation_result_list[i][1]\n",
    "                _define_metric(data_type, metric_name)\n",
    "\n",
    "    def _callback(env: \"CallbackEnv\") -> None:\n",
    "        if log_params_list[0]:\n",
    "            _init(env)\n",
    "        # eval_results: \"Dict[str, Dict[str, List[Any]]]\" = {}\n",
    "        # recorder = lightgbm.record_evaluation(eval_results)\n",
    "        # recorder(env)\n",
    "        eval_results = {x[0]:{x[1:][0]:x[1:][1:]} for x in env.evaluation_result_list}\n",
    "\n",
    "        for validation_key in eval_results.keys():\n",
    "            for key in eval_results[validation_key].keys():\n",
    "                 wandb.log(\n",
    "                     {validation_key + \"_\" + key: eval_results[validation_key][key][0]},\n",
    "                     commit=False,\n",
    "                 )\n",
    "        for item in eval_results:\n",
    "            if len(item) == 4:\n",
    "                wandb.log({f\"{item[0]}_{item[1]}\": item[2]}, commit=False)\n",
    "\n",
    "        # Previous log statements use commit=False. This commits them.\n",
    "        wandb.log({\"iteration\": env.iteration}, commit=True)\n",
    "\n",
    "    return _callback"
   ]
  },
  {
   "attachments": {},
   "cell_type": "markdown",
   "metadata": {
    "id": "QZlm5HSmhfQv"
   },
   "source": [
    "## Training"
   ]
  },
  {
   "cell_type": "code",
   "execution_count": null,
   "metadata": {
    "ExecuteTime": {
     "end_time": "2021-05-24T09:49:29.678737Z",
     "start_time": "2021-05-24T09:49:29.376581Z"
    },
    "id": "s6qgJ8MLhfQw",
    "tags": []
   },
   "outputs": [],
   "source": [
    "#경로에 맞게 수정\n",
    "X=pd.read_parquet('./data/train_ppd_final_sfcv.parquet')\n",
    "test=pd.read_parquet('./data/test_ppd_final.parquet')"
   ]
  },
  {
   "cell_type": "code",
   "execution_count": null,
   "metadata": {
    "tags": []
   },
   "outputs": [],
   "source": [
    "y=X[\"answerCode\"]\n",
    "g=X[\"userID\"]"
   ]
  },
  {
   "cell_type": "code",
   "execution_count": null,
   "metadata": {
    "tags": []
   },
   "outputs": [],
   "source": [
    "feat=[ 'KnowledgeTag', \n",
    "       'user_test_correct_answer', \n",
    "       'user_test_total_answer',\n",
    "       'user_test_acc', \n",
    "       'user_tag_correct_answer', \n",
    "       'user_tag_total_answer',\n",
    "       'user_tag_acc', \n",
    "       'testid_first', \n",
    "       'testid_rest', \n",
    "       'itemseq', \n",
    "       'item_mean',\n",
    "       'test_mean', \n",
    "       'tag_mean', \n",
    "       'item_std', \n",
    "       'test_std', \n",
    "       'tag_std', \n",
    "       'month',\n",
    "       'hour', \n",
    "       'repeat', \n",
    "       'elapse', \n",
    "       'total_elapse', \n",
    "       'encoded_time',\n",
    "       'user_tag_incorrect', \n",
    "       'user_tag_inacc' ]"
   ]
  },
  {
   "cell_type": "code",
   "execution_count": null,
   "metadata": {},
   "outputs": [],
   "source": [
    "params={'objective': 'binary', \n",
    "        'metric': ['auc'],\n",
    "        'device':'cpu',\n",
    "        'num_boost_round':200, \n",
    "        'early_stopping_rounds':20\n",
    "        }\n",
    "\n",
    "n_fold=5\n",
    "sfcv=StratifiedGroupKFold(n_splits=n_fold)\n",
    "oof_auc = np.zeros(n_fold)\n",
    "oof_acc = np.zeros(n_fold)\n",
    "test_preds = np.zeros(len(test))\n",
    "\n",
    "for i , (train_idx, val_idx) in enumerate(sfcv.split(X, y, g)):\n",
    "    print(f\"Fold {i}:\")\n",
    "    X_train, y_train = X.iloc[train_idx], y.iloc[train_idx]\n",
    "    X_valid = X.iloc[val_idx]\n",
    "    X_valid = X_valid[X_valid['userID'] != X_valid['userID'].shift(-1)]\n",
    "    y_valid = X_valid[\"answerCode\"]\n",
    "    lgb_train = lgb.Dataset(X_train[feat], y_train, categorical_feature=[\"KnowledgeTag\"])\n",
    "    lgb_valid = lgb.Dataset(X_valid[feat], y_valid, categorical_feature=[\"KnowledgeTag\"])\n",
    "    #wandb.init(project=\"dkt\", config=params)\n",
    "    #wandb.run.name = \"fold\"+str(i)+\"lgbm\"\n",
    "    model = lgb.train(\n",
    "                    params, \n",
    "                    lgb_train,\n",
    "                    valid_sets=[lgb_train, lgb_valid], \n",
    "                    callbacks=[wandb_callback(), lgb.log_evaluation()],\n",
    "                    categorical_feature=[\"KnowledgeTag\"]\n",
    "                    )\n",
    "    #log_summary(model, save_model_checkpoint=True)\n",
    "    #wandb.finish()\n",
    "    preds = model.predict(X_valid[feat])\n",
    "    oof_acc[i] = accuracy_score(y_valid, np.where(preds >= 0.5, 1, 0))\n",
    "    oof_auc[i] = roc_auc_score(y_valid, preds)\n",
    "    \n",
    "    test_preds+=model.predict(test)/n_fold\n",
    "    \n",
    "    print(f'Fold {i} VALID AUC : {oof_auc[i]} ACC : {oof_acc[i]}\\n')"
   ]
  },
  {
   "cell_type": "code",
   "execution_count": null,
   "metadata": {},
   "outputs": [],
   "source": [
    "np.mean(oof_auc), np.mean(oof_acc)"
   ]
  },
  {
   "cell_type": "code",
   "execution_count": null,
   "metadata": {},
   "outputs": [],
   "source": [
    "output_dir = 'output/'\n",
    "write_path = os.path.join(output_dir, datetime.now(timezone(timedelta(hours=9))).strftime(\"%Y-%m-%d %H:%M:%S\")+\" lgbm submission.csv\")\n",
    "if not os.path.exists(output_dir):\n",
    "    os.makedirs(output_dir)\n",
    "with open(write_path, 'w', encoding='utf8') as w:\n",
    "    print(\"writing prediction : {}\".format(write_path))\n",
    "    w.write(\"id,prediction\\n\")\n",
    "    for id, p in enumerate(test_preds):\n",
    "        w.write('{},{}\\n'.format(id,p))"
   ]
  }
 ],
 "metadata": {
  "colab": {
   "provenance": []
  },
  "kernelspec": {
   "display_name": "Python 3 (ipykernel)",
   "language": "python",
   "name": "python3"
  },
  "language_info": {
   "codemirror_mode": {
    "name": "ipython",
    "version": 3
   },
   "file_extension": ".py",
   "mimetype": "text/x-python",
   "name": "python",
   "nbconvert_exporter": "python",
   "pygments_lexer": "ipython3",
   "version": "3.8.5"
  },
  "toc": {
   "base_numbering": 1,
   "nav_menu": {},
   "number_sections": false,
   "sideBar": true,
   "skip_h1_title": false,
   "title_cell": "Table of Contents",
   "title_sidebar": "Contents",
   "toc_cell": false,
   "toc_position": {},
   "toc_section_display": true,
   "toc_window_display": true
  }
 },
 "nbformat": 4,
 "nbformat_minor": 4
}
